{
 "cells": [
  {
   "cell_type": "raw",
   "id": "63c4e1df-6ee8-43dd-a4cb-62fd2be9eefe",
   "metadata": {},
   "source": [
    "Question 1 :\n",
    "Guido van Rossum has developed python"
   ]
  },
  {
   "cell_type": "code",
   "execution_count": null,
   "id": "e98b78c4-ec66-4f8f-9e48-050f867a5c20",
   "metadata": {},
   "outputs": [],
   "source": [
    "Question 2 :\n",
    "Python is object oriented programming language    "
   ]
  },
  {
   "cell_type": "code",
   "execution_count": null,
   "id": "ac659d11-8dd1-4b1c-808f-406e445ec76c",
   "metadata": {},
   "outputs": [],
   "source": [
    "Ouestion 3:\n",
    "Yess, Python is case sensitve when dealing with identifiers too    "
   ]
  },
  {
   "cell_type": "code",
   "execution_count": null,
   "id": "6e41e03f-c6e5-4127-b6e8-c2f648efe52a",
   "metadata": {},
   "outputs": [],
   "source": [
    "Question 4:\n",
    ".py    "
   ]
  },
  {
   "cell_type": "code",
   "execution_count": null,
   "id": "dbab911c-3a06-48f7-97b9-6fed216f6c38",
   "metadata": {},
   "outputs": [],
   "source": [
    "Question 5:\n",
    "Python is interpreted language which means the source code of python is first converted into it corresponding bytecode then is then executed by python virtual machine."
   ]
  },
  {
   "cell_type": "code",
   "execution_count": null,
   "id": "a2c1aab5-4b2c-4c9f-8976-d298b8c2d9f1",
   "metadata": {},
   "outputs": [],
   "source": [
    "Question 6:\n",
    "Module, Function Body, class Defination are such block use to define python program    \n",
    "    "
   ]
  },
  {
   "cell_type": "code",
   "execution_count": null,
   "id": "8a3dcf06-106a-4737-9989-cac9a35a19c4",
   "metadata": {},
   "outputs": [],
   "source": [
    "Question 7:\n",
    "# is used to give single line comment in python    "
   ]
  },
  {
   "cell_type": "code",
   "execution_count": null,
   "id": "eafbed05-4714-4ada-8586-75706074451d",
   "metadata": {},
   "outputs": [],
   "source": [
    "Question 8:\n",
    "python_version() is the function"
   ]
  },
  {
   "cell_type": "code",
   "execution_count": null,
   "id": "e46ff8a9-7e5e-43da-875e-485b06bf9cfa",
   "metadata": {},
   "outputs": [],
   "source": [
    "Question 9:\n",
    "Lambda Function can take any no of argumnet but return only one value in form of an expression \n",
    "    "
   ]
  },
  {
   "cell_type": "code",
   "execution_count": null,
   "id": "1c88f906-7e28-45f1-b3ca-d0f2139465b4",
   "metadata": {},
   "outputs": [],
   "source": [
    "Question 10:\n",
    "Preferred installer program    "
   ]
  },
  {
   "cell_type": "code",
   "execution_count": null,
   "id": "a2c9ca87-2967-4699-95a2-cd3e4ae17005",
   "metadata": {},
   "outputs": [],
   "source": [
    "Question 11:\n",
    "print(), type(), input(), len(),append() etc    "
   ]
  },
  {
   "cell_type": "code",
   "execution_count": null,
   "id": "15b9f89e-e3d6-4f34-8285-0552c5ed1f04",
   "metadata": {},
   "outputs": [],
   "source": [
    "Question 12:\n",
    "It can be upto length 79    "
   ]
  },
  {
   "cell_type": "code",
   "execution_count": null,
   "id": "8f5211b3-8b86-425f-988a-e10ea125df75",
   "metadata": {},
   "outputs": [],
   "source": [
    "Question 13:\n",
    "Pythpon is currently one of the popular object orriented programming language.\n",
    "1. Use vastly in field of data analytics\n",
    "2. Computer Graphics\n",
    "3. AI and Machine Learning\n",
    "4. Natural language processing\n",
    "5. Filed of Scientific and Mathemeticals computation\n",
    "6. Web Development\n",
    "and High level programming requiremnet."
   ]
  },
  {
   "cell_type": "code",
   "execution_count": null,
   "id": "8c144d5e-a483-4565-a631-566f035db7d1",
   "metadata": {},
   "outputs": [],
   "source": [
    "Question 14:\n",
    "Python involves a private heap contaning allpython objects and data structure, this private heap is ensured internally by python memory manager    "
   ]
  },
  {
   "cell_type": "code",
   "execution_count": null,
   "id": "907f3600-ac1b-48a0-b578-acb88f02fbfe",
   "metadata": {},
   "outputs": [],
   "source": [
    "Question 15:\n",
    "    1.Go to python website na d downloa dthe respective version for windows , downlao dthat file and click on istall python for all users and then add path.\n",
    "    2.Open Environment Variable of our syatem availabe in advance system settings and go to PATH cilck on edir now click on NEW and enter python's installed directory and click on save and come out by saving this."
   ]
  },
  {
   "cell_type": "code",
   "execution_count": null,
   "id": "d68a7818-11b5-4c28-bbb0-b60b88dc4f2a",
   "metadata": {},
   "outputs": [],
   "source": [
    "Question 16:\n",
    "Yes indentation is requesed in python.    "
   ]
  }
 ],
 "metadata": {
  "kernelspec": {
   "display_name": "Python 3 (ipykernel)",
   "language": "python",
   "name": "python3"
  },
  "language_info": {
   "codemirror_mode": {
    "name": "ipython",
    "version": 3
   },
   "file_extension": ".py",
   "mimetype": "text/x-python",
   "name": "python",
   "nbconvert_exporter": "python",
   "pygments_lexer": "ipython3",
   "version": "3.10.8"
  }
 },
 "nbformat": 4,
 "nbformat_minor": 5
}
