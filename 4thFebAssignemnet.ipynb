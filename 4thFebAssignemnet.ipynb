{
 "cells": [
  {
   "cell_type": "raw",
   "id": "6b7fc0d3-1dc7-4187-a4c8-3a247f8e5ddd",
   "metadata": {},
   "source": [
    "Q1: \n",
    "tup = [('Sachin Tendulkar', 34357), ('Ricky Ponting', 27483), ('Jack Kallis', 25534), ('Virat Kohli', 24936)]\n",
    "newList = sorted(tup, key = lambda x : x[1],reverse=True)   \n",
    "print(newList)"
   ]
  },
  {
   "cell_type": "raw",
   "id": "e6a4b73c-8287-4efd-bd26-f0dade9be80f",
   "metadata": {},
   "source": [
    "Q2: \n",
    "l = [1, 2, 3, 4, 5, 6, 7, 8, 9, 10]\n",
    "list(map(lambda x: x**2,l))    "
   ]
  },
  {
   "cell_type": "raw",
   "id": "2c17d9af-26ba-4106-9564-9440e3d23054",
   "metadata": {},
   "source": [
    "Q3: \n",
    "l2 = [1, 2, 3, 4, 5, 6, 7, 8, 9, 10]\n",
    "tuple(map(lambda x: str(x),l2))"
   ]
  },
  {
   "cell_type": "raw",
   "id": "7a912b56-3a3e-4059-afc9-58de7ea31c82",
   "metadata": {},
   "source": [
    "Q4:\n",
    "l = list(range(1,26))\n",
    "from functools import reduce\n",
    "reduce(lambda x,y: x*y,l)    \n",
    "    "
   ]
  },
  {
   "cell_type": "raw",
   "id": "aba9038e-7778-4e04-9c97-d4f6e209878b",
   "metadata": {},
   "source": [
    "Q5:\n",
    "l = [2, 3, 6, 9, 27, 60, 90, 120, 55, 46]\n",
    "list(filter(lambda x: x%2==0 and x%3==0,l))    "
   ]
  },
  {
   "cell_type": "markdown",
   "id": "72bc6f7a-5c21-4b27-b314-285cc46f969b",
   "metadata": {},
   "source": [
    "Q6:\n",
    "l = ['python', 'php', 'aba', 'radar', 'level']\n",
    "list(filter(lambda x: x[::-1] == x,l))"
   ]
  }
 ],
 "metadata": {
  "kernelspec": {
   "display_name": "Python 3 (ipykernel)",
   "language": "python",
   "name": "python3"
  },
  "language_info": {
   "codemirror_mode": {
    "name": "ipython",
    "version": 3
   },
   "file_extension": ".py",
   "mimetype": "text/x-python",
   "name": "python",
   "nbconvert_exporter": "python",
   "pygments_lexer": "ipython3",
   "version": "3.10.8"
  }
 },
 "nbformat": 4,
 "nbformat_minor": 5
}
