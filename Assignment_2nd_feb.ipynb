{
 "cells": [
  {
   "cell_type": "raw",
   "id": "d185ea3e-3e1d-4b53-9217-dc97891d7578",
   "metadata": {},
   "source": [
    "Q1 : The for loop is used when we already know the number of iterations, which means when we know how many times a statement has to be executed. That is why we have to specify the ending point in the for loop initialization.\n",
    "Example of for loop :\n",
    "\n",
    "i = [10, 20, 30, 40, 50]\n",
    "for element in i:\n",
    "   print(element)\n",
    "   \n",
    "here we no the number of iteration so we used for loop\n",
    "\n",
    "When we need to end the loop on a condition other than the number of times, we use a while loop. \n",
    "Ex:\n",
    "i = 1\n",
    "while i < 10:\n",
    "   print(i)\n",
    "   i += 1 "
   ]
  },
  {
   "cell_type": "code",
   "execution_count": null,
   "id": "ff087e13-1dde-49fa-a0a6-2887a83e10f8",
   "metadata": {},
   "outputs": [],
   "source": [
    "Q2: Sum and Product for first 10 natural number python code using for loop:\n",
    "s = 0;\n",
    "p = 1;\n",
    "for i in range(1,11):\n",
    "    s=s+i;\n",
    "    p=p*i;\n",
    "print(s)\n",
    "print(p)\n",
    "\n",
    "Using While loop:\n",
    "i=1;\n",
    "s=0\n",
    "p=1;\n",
    "while i<11:\n",
    "    s= s+i\n",
    "    p = p*i\n",
    "    i=i+1\n",
    "print(s)\n",
    "print(p)\n",
    "    "
   ]
  },
  {
   "cell_type": "code",
   "execution_count": null,
   "id": "ef664281-cf73-4296-878b-d8629d1a650c",
   "metadata": {},
   "outputs": [],
   "source": [
    "Q3: \n",
    "u = int(input( \"Enter your unit consumpution of electricity : \"))\n",
    "t =0;\n",
    "if u <= 100:\n",
    "    t = t+ (u*4.5)\n",
    "elif u>100 and u <=200:\n",
    "    b = 100*4.5;\n",
    "    u = u - 100;\n",
    "    t = t+b+(u*6);\n",
    "elif u>200 and u<=300:\n",
    "    b = 100*4.5+100*6;\n",
    "    u = u - 200;\n",
    "    t = t+b+(u*10);\n",
    "elif u>=300:\n",
    "    t=t+(100*4.5)+(100*6)+(100*10)+((u-300)*20)\n",
    "print(\"Total electricity bill \"+ str(t))    "
   ]
  },
  {
   "cell_type": "code",
   "execution_count": null,
   "id": "7b124337-040f-4276-a98b-fd7c22b3d55b",
   "metadata": {},
   "outputs": [],
   "source": [
    "Q4:\n",
    "Using For loop :\n",
    "l = range(1,101)\n",
    "l2 =[]\n",
    "for i in l:\n",
    "    if (i**3)%4 == 0 or (i**3)%5 == 0:\n",
    "        l2.append(i);\n",
    "print(l2)\n",
    "\n",
    "Using While loop:\n",
    "    \n",
    "l = list(range(1,101))\n",
    "i = 1;\n",
    "l2=[]\n",
    "while i<=len(l):\n",
    "    if (i**3)%4 == 0 or (i**3)%5 == 0:\n",
    "        l2.append(i);\n",
    "    i = i+1\n",
    "print(l2)    "
   ]
  },
  {
   "cell_type": "code",
   "execution_count": null,
   "id": "bce39320-7ad1-4dee-b885-2c6fc020c7e3",
   "metadata": {},
   "outputs": [],
   "source": [
    "Q5:\n",
    "string = \"I want to become a data scientist\"\n",
    "v = set(\"aeiouAEIOU\")\n",
    "count = 0;\n",
    "for i in string:\n",
    "    if i in v:\n",
    "        count=count+1;\n",
    "print(count)    "
   ]
  }
 ],
 "metadata": {
  "kernelspec": {
   "display_name": "Python 3 (ipykernel)",
   "language": "python",
   "name": "python3"
  },
  "language_info": {
   "codemirror_mode": {
    "name": "ipython",
    "version": 3
   },
   "file_extension": ".py",
   "mimetype": "text/x-python",
   "name": "python",
   "nbconvert_exporter": "python",
   "pygments_lexer": "ipython3",
   "version": "3.10.8"
  }
 },
 "nbformat": 4,
 "nbformat_minor": 5
}
