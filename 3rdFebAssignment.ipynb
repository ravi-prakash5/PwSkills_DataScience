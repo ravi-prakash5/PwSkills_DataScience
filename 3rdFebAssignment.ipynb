{
 "cells": [
  {
   "cell_type": "raw",
   "id": "8e2cf9c9-d715-4057-a8cb-3013c560be5c",
   "metadata": {},
   "source": [
    "Q1: def keyword is used to create a function.\n",
    "\n",
    "A function to return a list of odd numbers in the\n",
    "range of 1 to 25.\n",
    "def listOFOddNumber():\n",
    "    return [i for i in list(range(1,26)) if(i%2!=0) ]"
   ]
  },
  {
   "cell_type": "code",
   "execution_count": null,
   "id": "29dcdcc9-e197-4761-9dd5-4bfae01910af",
   "metadata": {},
   "outputs": [],
   "source": [
    "Q2 : *args is used when we do not know the no of argument that is passed to the function ,the symbol * to take in a variable number of arguments\n",
    "Ex: \n",
    "def myFun(*argv):\n",
    "    for arg in argv:\n",
    "        print(arg)\n",
    "myFun('Hello', 'Welcome', 'to', 'ravi world of python')\n",
    "\n",
    "**kwargs is used when we have to pass the any number of keyValue pair.\n",
    "def fun15(**kwargs):\n",
    "    return kwargs\n",
    "fun15(a=[5,6],b=\"zravi\",c=56.7)"
   ]
  },
  {
   "cell_type": "code",
   "execution_count": null,
   "id": "65a30321-fd3a-4426-9302-aff5d759cb06",
   "metadata": {},
   "outputs": [],
   "source": [
    "Q3: Iterator in Python is an object that is used to iterate over iterable objects like lists, tuples, dicts, and sets. \n",
    "The iterator object is initialized using the iter() method. It uses the next() method for iteration.\n",
    "\n",
    "l = [2, 4, 6, 8, 10, 12, 14,\n",
    "16, 18, 20]\n",
    "\n",
    "iterator_num = iter(l)\n",
    "print(next(iterator_num))\n",
    "print(next(iterator_num))\n",
    "print(next(iterator_num))\n",
    "print(next(iterator_num))\n",
    "print(next(iterator_num))"
   ]
  },
  {
   "cell_type": "code",
   "execution_count": null,
   "id": "30d685ab-7a06-41cb-adcc-7b58bbe51eaf",
   "metadata": {},
   "outputs": [],
   "source": [
    "Q4: In Python, a generator is a function that returns an iterator that produces a sequence of values when iterated over.\n",
    "Generators are useful when we want to produce a large sequence of values, but we don't want to store all of them in memory at once.\n",
    "\n",
    "yield keyword is used to produce a value from the generator.\n",
    "EX:\n",
    "\n",
    "def find_odd( numbers ):  \n",
    "    for num in range( numbers ):  \n",
    "        if num % 2 != 0:  \n",
    "            yield num   \n",
    "odd_num = find_odd( 34 )  \n",
    "print(list( odd_num )) "
   ]
  },
  {
   "cell_type": "code",
   "execution_count": null,
   "id": "1e436228-3712-4865-95fd-c175fb25a128",
   "metadata": {},
   "outputs": [],
   "source": [
    "Q5: \n",
    "\n",
    "def findPrimeNo(num):\n",
    "    for i in list(range(1,num)):\n",
    "        if i > 1:\n",
    "            for j in range(2,i):\n",
    "                if (i % j) == 0:\n",
    "                    break\n",
    "            else:\n",
    "                yield i\n",
    "        else:\n",
    "            yield i\n",
    "\n",
    "op = findPrimeNo(1000)\n",
    "prime_itr = iter(list(op))\n",
    "count = 0;\n",
    "while count<=20:\n",
    "    print(next(prime_itr))\n",
    "    count = count+1"
   ]
  },
  {
   "cell_type": "code",
   "execution_count": null,
   "id": "6623aaaf-c043-45a7-8353-7b4d2bf5b9a9",
   "metadata": {},
   "outputs": [],
   "source": [
    "Q6:\n",
    "\n",
    "    def fibonacciSeries(Number):\n",
    "    if(Number == 0):\n",
    "        return 0\n",
    "    elif(Number == 1):\n",
    "        return 1\n",
    "    else:\n",
    "        return (fibonacciSeries(Number - 1) + fibonacciSeries(Number - 2))\n",
    "for n in range(0, 10):\n",
    "    print(fibonacciSeries(n))"
   ]
  },
  {
   "cell_type": "code",
   "execution_count": null,
   "id": "9b6419ad-8016-4b68-b176-7bc2d8166883",
   "metadata": {},
   "outputs": [],
   "source": [
    "Q7: [i for i in s]\n",
    "    "
   ]
  },
  {
   "cell_type": "code",
   "execution_count": null,
   "id": "6f9e217a-eb5f-4f7b-806d-eb2964b2dbf4",
   "metadata": {},
   "outputs": [],
   "source": [
    "Q8:\n",
    "def palindrome(num):\n",
    "    temp = num\n",
    "    reversed_num = 0\n",
    "    while num != 0:\n",
    "        digit = num % 10\n",
    "        reversed_num = reversed_num * 10 + digit\n",
    "        num //= 10\n",
    "    if (temp == reversed_num):\n",
    "        print(str(temp)+\" is palindrome\")\n",
    "    else:\n",
    "        print(\"not palindrome\")\n",
    "\n",
    "palindrome(121)    "
   ]
  },
  {
   "cell_type": "code",
   "execution_count": null,
   "id": "99681030-7e6c-47ff-836c-19888c1479a7",
   "metadata": {},
   "outputs": [],
   "source": [
    "Q9:\n",
    "[i for i in list(range(1,101)) if i%2 != 0]"
   ]
  }
 ],
 "metadata": {
  "kernelspec": {
   "display_name": "Python 3 (ipykernel)",
   "language": "python",
   "name": "python3"
  },
  "language_info": {
   "codemirror_mode": {
    "name": "ipython",
    "version": 3
   },
   "file_extension": ".py",
   "mimetype": "text/x-python",
   "name": "python",
   "nbconvert_exporter": "python",
   "pygments_lexer": "ipython3",
   "version": "3.10.8"
  }
 },
 "nbformat": 4,
 "nbformat_minor": 5
}
