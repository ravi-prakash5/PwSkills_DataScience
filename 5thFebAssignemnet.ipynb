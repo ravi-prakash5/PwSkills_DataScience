{
 "cells": [
  {
   "cell_type": "markdown",
   "id": "f2f22469-d1f5-4e2b-ab1f-7a924dbde3bd",
   "metadata": {},
   "source": [
    "Q1:\n",
    "An object is simply a collection of data (variables) and methods (functions). Similarly, a class is a blueprint for that object.\n",
    "\n",
    "A class is considered as a blueprint of objects. We can think of the class as a sketch (prototype) of a house. It contains all the details about the floors, doors, windows, etc. Based on these descriptions we build the house. House is the object.\n",
    "\n",
    "Since many houses can be made from the same description, we can create many objects from a class."
   ]
  },
  {
   "cell_type": "code",
   "execution_count": null,
   "id": "ff3716ed-4508-47b6-8509-554ab57ae047",
   "metadata": {},
   "outputs": [],
   "source": [
    "Q2: The four pillars of oops are Inheritance, Polymorphism, Encapsulation and Abstraction."
   ]
  },
  {
   "cell_type": "code",
   "execution_count": null,
   "id": "684b502a-4383-4ff5-bf67-a810ac55de87",
   "metadata": {},
   "outputs": [],
   "source": [
    "Q3: \n",
    "    The __init__  function is called every time an object is created from a class. It is a constructor \n",
    "    The __init__ method lets the class initialize the object’s attributes and serves no other purpose. It is only used within classes. "
   ]
  },
  {
   "cell_type": "code",
   "execution_count": null,
   "id": "c3ff3339-0725-4747-a757-1a748990cbc9",
   "metadata": {},
   "outputs": [],
   "source": [
    "Q4: self is used to bind the variable or the methode with the class\n",
    "it represents the instance of class. This keyword allows us to access variables, attributes, and methods of a defined class in Python"
   ]
  },
  {
   "cell_type": "code",
   "execution_count": null,
   "id": "e80cb93a-8525-4900-9245-c027e7bbbf66",
   "metadata": {},
   "outputs": [],
   "source": [
    "Q5: \n",
    "    Inheritance is defined as the mechanism of inheriting the properties of the base class to the child class.\n",
    "    \n",
    "Single Inheritance: \n",
    "Single inheritance enables a derived class to inherit properties from a single parent class, thus enabling code reusability and the addition of new features to existing code.\n",
    "\n",
    "Multiple Inheritance: \n",
    "When a class can be derived from more than one base class this type of inheritance is called multiple inheritances. In multiple inheritances, all the features of the base classes are inherited into the derived class. \n",
    "\n",
    "Multilevel Inheritance :\n",
    "In multilevel inheritance, features of the base class and the derived class are further inherited into the new derived class. This is similar to a relationship representing a child and a grandfather. \n",
    "\n",
    "Hierarchical Inheritance: \n",
    "When more than one derived class are created from a single base this type of inheritance is called hierarchical inheritance. In this program, we have a parent (base) class and two child (derived) classes."
   ]
  }
 ],
 "metadata": {
  "kernelspec": {
   "display_name": "Python 3 (ipykernel)",
   "language": "python",
   "name": "python3"
  },
  "language_info": {
   "codemirror_mode": {
    "name": "ipython",
    "version": 3
   },
   "file_extension": ".py",
   "mimetype": "text/x-python",
   "name": "python",
   "nbconvert_exporter": "python",
   "pygments_lexer": "ipython3",
   "version": "3.10.8"
  }
 },
 "nbformat": 4,
 "nbformat_minor": 5
}
